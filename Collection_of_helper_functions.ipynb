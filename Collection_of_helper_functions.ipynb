{
 "cells": [
  {
   "cell_type": "code",
   "execution_count": null,
   "metadata": {},
   "outputs": [],
   "source": [
    "import re as re\n",
    "import pandas as pd"
   ]
  },
  {
   "cell_type": "code",
   "execution_count": null,
   "metadata": {},
   "outputs": [],
   "source": [
    "def filter_and_return(data=None, col='', dtype='float', replace=False):\n",
    "    data2 = data.copy()\n",
    "    for idx, el in enumerate(data2[col]):\n",
    "        if dtype == 'float':\n",
    "            regex = '[-+]?([0-9]*\\.[0-9]+|[0-9]+)'\n",
    "            x = re.findall(regex, el)\n",
    "            if len(x) > 0:\n",
    "                data2.drop(idx, inplace=True)\n",
    "    return data2"
   ]
  },
  {
   "cell_type": "code",
   "execution_count": null,
   "metadata": {},
   "outputs": [],
   "source": [
    "import matplotlib.pyplot as plt\n",
    "import numpy as np\n",
    "def binary_corr_plot(df, col1, col2, scale_factor=10):\n",
    "    plt.scatter([0], [0], s=(np.where((df[col1] == 0) & (df[col2] == 0), 1, 0).sum())*scale_factor, c='blue')\n",
    "    plt.scatter([1], [0], s=(np.where((df[col1] == 0) & (df[col2] == 1), 1, 0).sum())*scale_factor, c='blue')\n",
    "    plt.scatter([0], [1], s=(np.where((df[col1] == 1) & (df[col2] == 0), 1, 0).sum())*scale_factor, c='blue')\n",
    "    plt.scatter([1], [1], s=(np.where((df[col1] == 1) & (df[col2] == 1), 1, 0).sum())*scale_factor, c='blue')"
   ]
  }
 ],
 "metadata": {
  "kernelspec": {
   "display_name": "Python 3",
   "language": "python",
   "name": "python3"
  },
  "language_info": {
   "codemirror_mode": {
    "name": "ipython",
    "version": 3
   },
   "file_extension": ".py",
   "mimetype": "text/x-python",
   "name": "python",
   "nbconvert_exporter": "python",
   "pygments_lexer": "ipython3",
   "version": "3.6.6"
  }
 },
 "nbformat": 4,
 "nbformat_minor": 4
}
