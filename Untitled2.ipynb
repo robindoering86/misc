{
 "cells": [
  {
   "cell_type": "markdown",
   "metadata": {},
   "source": [
    "# Activation functions"
   ]
  },
  {
   "cell_type": "markdown",
   "metadata": {},
   "source": [
    "## sigmoid activation function\n",
    "\n",
    "$$\\Phi(x)=\\frac{1}{1+exp^{-x}$$\n",
    "\n",
    "* vanishing gradient problem\n",
    "* Secondly, its output isn’t zero centered. It makes the gradient updates go too far in different directions. 0 < output < 1, and it makes optimization harder.\n",
    "* Sigmoids saturate and kill gradients.\n",
    "* Sigmoids have slow convergence."
   ]
  },
  {
   "cell_type": "markdown",
   "metadata": {},
   "source": [
    "## Hyperbolic tangent function\n",
    "$$\\Phi(x)=\\frac{1-exp^{-2x}{1+exp^{-2x}$$\n",
    "\n",
    "* Easier optimization because function is zero-centered\n",
    "*vanishing gradient problem remains"
   ]
  },
  {
   "cell_type": "markdown",
   "metadata": {},
   "source": [
    "## ReLu- Rectified Linear units \n",
    "\n",
    "* 6 times improvement in convergence from Tanh function\n",
    "* But its limitation is that it should only be used within Hidden layers of a Neural Network Model. BUT WHY?\n",
    "* ReLu can result in Dead Neurons"
   ]
  },
  {
   "cell_type": "markdown",
   "metadata": {},
   "source": [
    "## Softmax\n",
    "\n",
    "* Used to output probabilities in output layer\n",
    "* Some gradients can be fragile and fitting can die"
   ]
  },
  {
   "cell_type": "markdown",
   "metadata": {},
   "source": [
    "## Leaky-ReLU\n",
    "\n",
    "* introduces small slope for values x < 0\n",
    "* this helps keep updates alive\n"
   ]
  },
  {
   "cell_type": "markdown",
   "metadata": {},
   "source": [
    "# Forward- and backward propagation\n"
   ]
  }
 ],
 "metadata": {
  "kernelspec": {
   "display_name": "Python 3",
   "language": "python",
   "name": "python3"
  },
  "language_info": {
   "codemirror_mode": {
    "name": "ipython",
    "version": 3
   },
   "file_extension": ".py",
   "mimetype": "text/x-python",
   "name": "python",
   "nbconvert_exporter": "python",
   "pygments_lexer": "ipython3",
   "version": "3.6.6"
  }
 },
 "nbformat": 4,
 "nbformat_minor": 4
}
