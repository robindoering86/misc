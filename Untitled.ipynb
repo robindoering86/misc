{
 "cells": [
  {
   "cell_type": "markdown",
   "metadata": {},
   "source": [
    "# Bagging\n",
    "\n",
    "In bagging methods, M different base estimators are trained on different randomly selected subsets (length = N) of the dataset (of length n). For sufficiently large n, the individual samples will contain approximately 63 % unique values while the remaining 37% are duplicates. For predicting values, a weighted majority vote or weighted sum is formed. Bagging helps improving the performance of unstable learners (e.g. decision trees) by lowering the variance (overfitting) through averageing."
   ]
  },
  {
   "cell_type": "markdown",
   "metadata": {},
   "source": [
    "# Boosting\n",
    "\n",
    "The main principle of boosting is to fit a sequence of weak base learners (e.g. a short decision tree) to weighted versions of the data, where more weight is given to examples that were misclassified in earlier rounds. Finally, the predictions are combined to weighted majority votes or weighted sum to make a prediction."
   ]
  },
  {
   "cell_type": "markdown",
   "metadata": {},
   "source": [
    "# Stacking\n",
    "\n",
    "The main principle of stacking technique is to combine multiple base estimators (classification or regression) and stack on top of them a meta-estimator (which again can be either a classifier or a regressor). First the base estimators are trained on the training set, while their outputs are used as features to train the meta-estimator. The base level frequently consists of different types of learning algorithms. In this case, the method is named heterogenous."
   ]
  }
 ],
 "metadata": {
  "kernelspec": {
   "display_name": "Python [conda env:nf] *",
   "language": "python",
   "name": "conda-env-nf-py"
  },
  "language_info": {
   "codemirror_mode": {
    "name": "ipython",
    "version": 3
   },
   "file_extension": ".py",
   "mimetype": "text/x-python",
   "name": "python",
   "nbconvert_exporter": "python",
   "pygments_lexer": "ipython3",
   "version": "3.6.6"
  }
 },
 "nbformat": 4,
 "nbformat_minor": 4
}
