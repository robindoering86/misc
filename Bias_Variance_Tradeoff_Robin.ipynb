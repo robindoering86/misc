{
 "cells": [
  {
   "cell_type": "markdown",
   "metadata": {},
   "source": [
    "# The bias-variance tradeoff\n",
    "\n",
    "To put in simple terms, the bias-variance tradeoff describes the tradeoff between performance (precision) and flexibility of the model. Performance means the precision in exactly fitting to the data in training data set, whereas by flexibility we mean how well the model can estimate unseen data.\n",
    "\n",
    "The main goal of any machine learning algorithm is always to perform well on unseen data. Or to put it in more formatlistic terms: one has to minimize the expected <strong>test</strong> mean squared error (or any other metric of success that one is using).\n",
    "\n",
    "Lets start with a defition of bias and variance. Which a both errors that occur when performing statistical (predictive) modelling.\n",
    "\n",
    "Bias error: Is an effect of underfitting. It results from errornous assumptions in the model. E.g.: Trying to fit a sinusodial function with a straight line while result in a large bias error.\n",
    "\n",
    "Variance error: Is an effect of overfitting. model is sensitive to small fluctuations in training data . If we again look at the example of a sinusodial function, a degree 20 polynomial fit will result in a low bias (because it fits the training data very well). However, the flexibility. i.e. the ability to \"react\" to changes in the data is reduced.\n",
    "\n",
    "The test MSE (the one we are trying to minimize) is a sum of bias and variance errors. Because bias decreases while variance increases, there is an optimal degree of complexity. When plotting the test MSE over the degree of complexity, it shows an <strong>characteristic \"u-shape\"</strong>. "
   ]
  }
 ],
 "metadata": {
  "kernelspec": {
   "display_name": "Python [conda env:nf] *",
   "language": "python",
   "name": "conda-env-nf-py"
  },
  "language_info": {
   "codemirror_mode": {
    "name": "ipython",
    "version": 3
   },
   "file_extension": ".py",
   "mimetype": "text/x-python",
   "name": "python",
   "nbconvert_exporter": "python",
   "pygments_lexer": "ipython3",
   "version": "3.6.6"
  }
 },
 "nbformat": 4,
 "nbformat_minor": 2
}
