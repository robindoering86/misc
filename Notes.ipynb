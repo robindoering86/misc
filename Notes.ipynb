{
 "cells": [
  {
   "cell_type": "markdown",
   "metadata": {},
   "source": [
    "# Probability distributions\n",
    "<blockquote>A probability distribution is a mathematical function that provides the probabilities of the occurrence of various possible outcomes in an experiment. <br/><a href='https://towardsdatascience.com/statistical-distributions-24b5b4ba43cc'>Source</a></blockquote>\n",
    "\n",
    "There exist two types/categories of random variables:\n",
    "* Discrete\n",
    "* Continouus\n",
    "\n",
    "Depending on what category a variable fits into, different statistical calculations such as mean, median, variance, probability can be performed. "
   ]
  },
  {
   "cell_type": "markdown",
   "metadata": {},
   "source": [
    "## Discrete and continous distributions\n",
    "\n",
    "<p>\n",
    "A <strong>discrete</strong> distribution displays the probabilities of the outcomes of a random variable with <strong>finite</strong> values and is used to model a discrete random variable.\n",
    "\n",
    "Properties:\n",
    "* can be laid out in tables \n",
    "* values of the random variable are countable\n",
    "* defined by probability mass functions (<strong>PMF</strong>)\n",
    "\n",
    "The PMF reflects the probality that a random variable will assume one specific value being calculated at: $Pr(X=a)$\n",
    "</p>\n",
    "\n",
    "A contonious distribution on the other hand describes the probabilities of the outcomes of a random variable with <strong>infinite</strong> values.\n",
    "\n",
    "Properties:\n",
    "* these types of random variables are uncountable \n",
    "* probability of a continuous random variable at one specific point is zero.\n",
    "* typically described by probability distribution function (<strong>PDF</strong>)\n",
    "\n",
    "The PDF is used to calculate the probability that a continuous random variable will be less than or equal to the value it is being calculated at: $Pr(a\\leq X\\leq b)$ or $Pr(X\\leq b)$. Therefore, $\\int_{a}^{b}f_{PDF}(x)$ or $\\int_{0}^{b}f_{PDF}(x)$ must be calculated.\n",
    "\n",
    "Total area under any possibility distribtution is always 1, because is the probalities of all possible outcomes.\n",
    "\n",
    "### Expected values, first moment\n",
    "\n",
    "Discrete distribution: $E[X]_{discr}=\\sum_{i}x_ip_i$\n",
    "\n",
    "\n",
    "Continous distribution:\n",
    "$E[X]_{cont}=\\int _{\\mathbb {R} }xf_{PDF}(x)\\,dx$\n",
    "\n",
    "### Variance, second moment\n",
    "\n",
    "$VAR(X)=E[(X-E[X])^2]=E[X^2]-E[X]^2$"
   ]
  },
  {
   "cell_type": "markdown",
   "metadata": {},
   "source": [
    "## Types of distributions"
   ]
  },
  {
   "cell_type": "markdown",
   "metadata": {},
   "source": [
    "### Bernoulli\n",
    "Two possible outcomes, success (1) or failure (0), and single trial.\n",
    "\n",
    "#### Formulas\n",
    "\n",
    "$f(x)=\\begin{cases}1,\\quad 1 \\leq x\\leq 0\\\\0,\\quad else\\\\\\end{cases}$\n",
    "\n",
    "PMF: $p^x(1-p)^{1-x}$ where $x\\in(0, 1)$\n",
    "\n",
    "$E[X] = x_0p_0 + x_1p_1 = 0 (1-p_1) + 1p_1 = p_1 = p$\n",
    "\n",
    "$VAR[X] = E[X^2] - E[X]^2 = p - p^2 = p(1-p)$"
   ]
  },
  {
   "cell_type": "markdown",
   "metadata": {},
   "source": [
    "### Uniform\n",
    "\n",
    "Example: rolling a fair dice\n",
    "\n",
    "#### Formulas\n",
    "$f(x)=\\frac{1}{b-a}$ where $-\\infty\\leq a\\leq x \\leq b\\leq +\\infty$\n",
    "\n",
    "$p(x)=\\frac{n!}{(n-x)!x!}p^xq^{n-x}$\n"
   ]
  },
  {
   "cell_type": "code",
   "execution_count": 25,
   "metadata": {},
   "outputs": [
    {
     "name": "stderr",
     "output_type": "stream",
     "text": [
      "//anaconda3/envs/nf/lib/python3.6/site-packages/scipy/stats/stats.py:1713: FutureWarning: Using a non-tuple sequence for multidimensional indexing is deprecated; use `arr[tuple(seq)]` instead of `arr[seq]`. In the future this will be interpreted as an array index, `arr[np.array(seq)]`, which will result either in an error or a different result.\n",
      "  return np.add.reduce(sorted[indexer] * weights, axis=axis) / sumval\n"
     ]
    },
    {
     "data": {
      "text/plain": [
       "[Text(0, 0.5, 'freq'), Text(0.5, 0, 'Uniform dist')]"
      ]
     },
     "execution_count": 25,
     "metadata": {},
     "output_type": "execute_result"
    },
    {
     "data": {
      "image/png": "[encoded data removed]",
      "text/plain": [
       "<Figure size 432x288 with 1 Axes>"
      ]
     },
     "metadata": {
      "needs_background": "light"
     },
     "output_type": "display_data"
    }
   ],
   "source": [
    "import seaborn as sns\n",
    "from scipy.stats import uniform\n",
    "n=10000\n",
    "start=10\n",
    "width=30\n",
    "data=uniform.rvs(size=n, loc=start, scale=width)\n",
    "ax = sns.distplot(\n",
    "    data,\n",
    "    bins=1000,\n",
    "    kde=True,\n",
    "    hist_kws={'linewidth': 15, 'alpha': .7}\n",
    ")\n",
    "ax.set(xlabel='Uniform dist', ylabel='freq')"
   ]
  },
  {
   "cell_type": "markdown",
   "metadata": {},
   "source": [
    "### Normal distribution"
   ]
  },
  {
   "cell_type": "code",
   "execution_count": 13,
   "metadata": {},
   "outputs": [
    {
     "name": "stderr",
     "output_type": "stream",
     "text": [
      "//anaconda3/envs/nf/lib/python3.6/site-packages/scipy/stats/stats.py:1713: FutureWarning: Using a non-tuple sequence for multidimensional indexing is deprecated; use `arr[tuple(seq)]` instead of `arr[seq]`. In the future this will be interpreted as an array index, `arr[np.array(seq)]`, which will result either in an error or a different result.\n",
      "  return np.add.reduce(sorted[indexer] * weights, axis=axis) / sumval\n"
     ]
    },
    {
     "data": {
      "text/plain": [
       "[Text(0, 0.5, 'freq'), Text(0.5, 0, 'Normal dist')]"
      ]
     },
     "execution_count": 13,
     "metadata": {},
     "output_type": "execute_result"
    },
    {
     "data": {
      "image/png": "[encoded data removed]",
      "text/plain": [
       "<Figure size 432x288 with 1 Axes>"
      ]
     },
     "metadata": {
      "needs_background": "light"
     },
     "output_type": "display_data"
    }
   ],
   "source": [
    "from scipy.stats import norm\n",
    "n=10000\n",
    "start=10\n",
    "width=30\n",
    "data=norm.rvs(size=n, loc=0, scale=1)\n",
    "ax = sns.distplot(\n",
    "    data,\n",
    "    bins=100,\n",
    "    kde=True,\n",
    "    hist_kws={'linewidth': 15, 'alpha': .7}\n",
    ")\n",
    "ax.set(xlabel='Normal dist', ylabel='freq')"
   ]
  },
  {
   "cell_type": "code",
   "execution_count": 15,
   "metadata": {},
   "outputs": [
    {
     "name": "stderr",
     "output_type": "stream",
     "text": [
      "//anaconda3/envs/nf/lib/python3.6/site-packages/scipy/stats/stats.py:1713: FutureWarning: Using a non-tuple sequence for multidimensional indexing is deprecated; use `arr[tuple(seq)]` instead of `arr[seq]`. In the future this will be interpreted as an array index, `arr[np.array(seq)]`, which will result either in an error or a different result.\n",
      "  return np.add.reduce(sorted[indexer] * weights, axis=axis) / sumval\n"
     ]
    },
    {
     "data": {
      "text/plain": [
       "[Text(0, 0.5, 'freq'), Text(0.5, 0, 'Normal dist')]"
      ]
     },
     "execution_count": 15,
     "metadata": {},
     "output_type": "execute_result"
    },
    {
     "data": {
      "image/png": "[encoded data removed]",
      "text/plain": [
       "<Figure size 432x288 with 1 Axes>"
      ]
     },
     "metadata": {
      "needs_background": "light"
     },
     "output_type": "display_data"
    }
   ],
   "source": [
    "from scipy.stats import binom\n",
    "n=10000\n",
    "start=10\n",
    "width=30\n",
    "data=binom.rvs(n=10, p=0.6, size=n)\n",
    "ax = sns.distplot(\n",
    "    data,\n",
    "    bins=100,\n",
    "    kde=True,\n",
    "    hist_kws={'linewidth': 15, 'alpha': .7}\n",
    ")\n",
    "ax.set(xlabel='Normal dist', ylabel='freq')"
   ]
  },
  {
   "cell_type": "markdown",
   "metadata": {},
   "source": [
    "### Log"
   ]
  },
  {
   "cell_type": "code",
   "execution_count": 18,
   "metadata": {},
   "outputs": [
    {
     "data": {
      "text/plain": [
       "[Text(0, 0.5, 'freq'), Text(0.5, 0, 'Normal dist')]"
      ]
     },
     "execution_count": 18,
     "metadata": {},
     "output_type": "execute_result"
    },
    {
     "data": {
      "image/png": "[encoded data removed]",
      "text/plain": [
       "<Figure size 432x288 with 1 Axes>"
      ]
     },
     "metadata": {
      "needs_background": "light"
     },
     "output_type": "display_data"
    }
   ],
   "source": [
    "from scipy.stats import logser\n",
    "n=10000\n",
    "start=10\n",
    "width=30\n",
    "data=logser.rvs(p=0.7, size=n)\n",
    "ax = sns.distplot(\n",
    "    data,\n",
    "    bins=100,\n",
    "    kde=False,\n",
    "    hist_kws={'linewidth': 20, 'alpha': .7}\n",
    ")\n",
    "ax.set(xlabel='Normal dist', ylabel='freq')"
   ]
  },
  {
   "cell_type": "markdown",
   "metadata": {},
   "source": [
    "## Poisson distribution\n",
    "\n",
    "$f(x)=\\exp(-\\mu)\\frac{\\mu^x}{x!}$"
   ]
  },
  {
   "cell_type": "code",
   "execution_count": 43,
   "metadata": {},
   "outputs": [
    {
     "data": {
      "text/plain": [
       "[Text(0, 0.5, 'freq'), Text(0.5, 0, 'Poisson dist')]"
      ]
     },
     "execution_count": 43,
     "metadata": {},
     "output_type": "execute_result"
    },
    {
     "data": {
      "image/png": "[encoded data removed]",
      "text/plain": [
       "<Figure size 432x288 with 1 Axes>"
      ]
     },
     "metadata": {
      "needs_background": "light"
     },
     "output_type": "display_data"
    }
   ],
   "source": [
    "from scipy.stats import poisson\n",
    "n=10000\n",
    "start=10\n",
    "width=30\n",
    "data=poisson.rvs(mu=10, size=n)\n",
    "ax = sns.distplot(\n",
    "    data,\n",
    "    bins=100,\n",
    "    kde=False,\n",
    "    hist_kws={'linewidth': 20, 'alpha': .7}\n",
    ")\n",
    "ax.set(xlabel='Poisson dist', ylabel='freq')"
   ]
  },
  {
   "cell_type": "markdown",
   "metadata": {},
   "source": [
    "### Exponential distribution\n",
    "\n",
    "\n",
    "$f(x) = \\lambda\\exp{(-\\lambda x)}$, where $x \\geq 0$\n",
    "\n",
    "$E[X]=1/\\lambda$\n",
    "\n",
    "$VAR[X]=1/(\\lambda)^2$"
   ]
  },
  {
   "cell_type": "code",
   "execution_count": 33,
   "metadata": {},
   "outputs": [
    {
     "data": {
      "text/plain": [
       "[Text(0, 0.5, 'Freq'), Text(0.5, 0, 'Exp. dist')]"
      ]
     },
     "execution_count": 33,
     "metadata": {},
     "output_type": "execute_result"
    },
    {
     "data": {
      "image/png": "[encoded data removed]",
      "text/plain": [
       "<Figure size 432x288 with 1 Axes>"
      ]
     },
     "metadata": {
      "needs_background": "light"
     },
     "output_type": "display_data"
    }
   ],
   "source": [
    "from scipy.stats import expon\n",
    "n=10000\n",
    "start=10\n",
    "width=30\n",
    "data=expon.rvs(size=n)\n",
    "ax = sns.distplot(\n",
    "    data,\n",
    "    bins=100,\n",
    "    kde=False,\n",
    "    hist_kws={'linewidth': 20, 'alpha': .7}\n",
    ")\n",
    "ax.set(xlabel='Exp. dist', ylabel='Freq')"
   ]
  },
  {
   "cell_type": "markdown",
   "metadata": {},
   "source": [
    "## Relations between the Distributions\n",
    "#### Relation between Bernoulli and Binomial Distribution\n",
    "1. Bernoulli Distribution is a special case of Binomial Distribution with a single trial.\n",
    "\n",
    "2. There are only two possible outcomes of a Bernoulli and Binomial distribution, namely success and failure.\n",
    "\n",
    "3. Both Bernoulli and Binomial Distributions have independent trails.\n",
    "\n",
    "#### Relation between Poisson and Binomial Distribution\n",
    "Poisson Distribution is a limiting case of binomial distribution under the following conditions:\n",
    "\n",
    "The number of trials is indefinitely large or $n\\rightarrow\\infty$.\n",
    "The probability of success for each trial is same and indefinitely small or $p\\rightarrow 0$.\n",
    "np = λ, is finite.\n",
    " \n",
    "\n",
    "#### Relation between Normal and Binomial Distribution & Normal and Poisson Distribution\n",
    "Normal distribution is another limiting form of binomial distribution under the following conditions:\n",
    "\n",
    "The number of trials is indefinitely large, $n\\rightarrow\\infty$.\n",
    "Both p and q are not indefinitely small.\n",
    "The normal distribution is also a limiting case of Poisson distribution with the parameter $\\lambda \\rightarrow\\infty$.\n",
    "\n",
    " \n",
    "\n",
    "#### Relation between Exponential and Poisson Distribution\n",
    "If the times between random events follow exponential distribution with rate $\\lambda$, then the total number of events in a time period of length t follows the Poisson distribution with parameter $\\lambda t$."
   ]
  }
 ],
 "metadata": {
  "kernelspec": {
   "display_name": "Python [conda env:nf] *",
   "language": "python",
   "name": "conda-env-nf-py"
  },
  "language_info": {
   "codemirror_mode": {
    "name": "ipython",
    "version": 3
   },
   "file_extension": ".py",
   "mimetype": "text/x-python",
   "name": "python",
   "nbconvert_exporter": "python",
   "pygments_lexer": "ipython3",
   "version": "3.6.6"
  }
 },
 "nbformat": 4,
 "nbformat_minor": 2
}
